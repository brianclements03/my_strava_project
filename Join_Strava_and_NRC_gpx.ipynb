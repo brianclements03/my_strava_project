{
 "cells": [
  {
   "cell_type": "markdown",
   "id": "e8f7ced2",
   "metadata": {},
   "source": [
    "# In this notebook, I will merge all Strava and NRC activities in one single DataFrame"
   ]
  },
  {
   "cell_type": "code",
   "execution_count": 2,
   "id": "74d2e832",
   "metadata": {},
   "outputs": [],
   "source": [
    "import pandas as pd\n",
    "import numpy as np\n",
    "import numpy_ext\n",
    "import gpxpy\n",
    "import geopy.distance\n",
    "import matplotlib.pyplot as plt\n",
    "import seaborn as sns\n",
    "import os"
   ]
  },
  {
   "cell_type": "code",
   "execution_count": 18,
   "id": "27110855",
   "metadata": {
    "scrolled": false
   },
   "outputs": [],
   "source": [
    "directory = 'all_gpx_files'\n",
    " \n",
    "# iterate over files in\n",
    "# that directory\n",
    "def gpx_iterate(directory):\n",
    "    gpx_file_list=[]\n",
    "    for filename in os.listdir(directory):\n",
    "        f = os.path.join(directory, filename)\n",
    "        # checking if it is a file\n",
    "        if os.path.isfile(f):\n",
    "            gpx_file_list.append(f)\n",
    "    return gpx_file_list"
   ]
  },
  {
   "cell_type": "markdown",
   "id": "a93dad17",
   "metadata": {},
   "source": [
    "## Great, that's how I'll iterate over every gpx file : )"
   ]
  },
  {
   "cell_type": "code",
   "execution_count": 21,
   "id": "ac08ab21",
   "metadata": {},
   "outputs": [],
   "source": [
    "file_extensions = gpx_iterate(directory)"
   ]
  },
  {
   "cell_type": "code",
   "execution_count": 23,
   "id": "bbd7ab70",
   "metadata": {},
   "outputs": [
    {
     "data": {
      "text/plain": [
       "['all_gpx_files/6239779520.gpx',\n",
       " 'all_gpx_files/1056004315.gpx',\n",
       " 'all_gpx_files/0b0a39b7-9362-4b1d-9895-6e2c38046bc3.gpx',\n",
       " 'all_gpx_files/1511363289.gpx',\n",
       " 'all_gpx_files/1460279536.gpx',\n",
       " 'all_gpx_files/3468966238.gpx',\n",
       " 'all_gpx_files/575a84eb-24bc-4241-9651-224c31be8582.gpx',\n",
       " 'all_gpx_files/6133203641.gpx',\n",
       " 'all_gpx_files/2950351388.gpx',\n",
       " 'all_gpx_files/70a4ee20-02f7-4ab7-a400-b425cd759a92.gpx']"
      ]
     },
     "execution_count": 23,
     "metadata": {},
     "output_type": "execute_result"
    }
   ],
   "source": [
    "file_extensions[0:10]"
   ]
  },
  {
   "cell_type": "code",
   "execution_count": 36,
   "id": "db74a3ec",
   "metadata": {},
   "outputs": [],
   "source": [
    "df_list=['time','latitude','longitude','elevation','distance','cumulative_distance',\\\n",
    "                           'duration','cumulative_duration','pace_metric']"
   ]
  },
  {
   "cell_type": "code",
   "execution_count": 37,
   "id": "b409614d",
   "metadata": {},
   "outputs": [
    {
     "data": {
      "text/plain": [
       "['time',\n",
       " 'latitude',\n",
       " 'longitude',\n",
       " 'elevation',\n",
       " 'distance',\n",
       " 'cumulative_distance',\n",
       " 'duration',\n",
       " 'cumulative_duration',\n",
       " 'pace_metric']"
      ]
     },
     "execution_count": 37,
     "metadata": {},
     "output_type": "execute_result"
    }
   ],
   "source": [
    "df_list"
   ]
  },
  {
   "cell_type": "code",
   "execution_count": 45,
   "id": "2fe5567a",
   "metadata": {},
   "outputs": [
    {
     "data": {
      "text/html": [
       "<div>\n",
       "<style scoped>\n",
       "    .dataframe tbody tr th:only-of-type {\n",
       "        vertical-align: middle;\n",
       "    }\n",
       "\n",
       "    .dataframe tbody tr th {\n",
       "        vertical-align: top;\n",
       "    }\n",
       "\n",
       "    .dataframe thead th {\n",
       "        text-align: right;\n",
       "    }\n",
       "</style>\n",
       "<table border=\"1\" class=\"dataframe\">\n",
       "  <thead>\n",
       "    <tr style=\"text-align: right;\">\n",
       "      <th></th>\n",
       "      <th>duration</th>\n",
       "      <th>elevation</th>\n",
       "      <th>cumulative_duration</th>\n",
       "      <th>longitude</th>\n",
       "      <th>cumulative_distance</th>\n",
       "      <th>time</th>\n",
       "      <th>pace_metric</th>\n",
       "      <th>distance</th>\n",
       "      <th>latitude</th>\n",
       "    </tr>\n",
       "  </thead>\n",
       "  <tbody>\n",
       "  </tbody>\n",
       "</table>\n",
       "</div>"
      ],
      "text/plain": [
       "Empty DataFrame\n",
       "Columns: [duration, elevation, cumulative_duration, longitude, cumulative_distance, time, pace_metric, distance, latitude]\n",
       "Index: []"
      ]
     },
     "execution_count": 45,
     "metadata": {},
     "output_type": "execute_result"
    }
   ],
   "source": [
    "all_gpx_df = pd.DataFrame(columns={'time','latitude','longitude','elevation','distance','cumulative_distance',\\\n",
    "                           'duration','cumulative_duration','pace_metric'}, index=None)\n",
    "all_gpx_df"
   ]
  },
  {
   "cell_type": "code",
   "execution_count": 46,
   "id": "af7e05ec",
   "metadata": {},
   "outputs": [],
   "source": [
    "test=file_extensions[0:10]"
   ]
  },
  {
   "cell_type": "code",
   "execution_count": 47,
   "id": "28572796",
   "metadata": {},
   "outputs": [],
   "source": [
    "\n",
    "for file in test:\n",
    "    gpx_path = file\n",
    "    with open(gpx_path) as f:\n",
    "        gpx = gpxpy.parse(f)\n",
    "    points = []\n",
    "    for segment in gpx.tracks[0].segments:\n",
    "        for p in segment.points:\n",
    "            points.append({\n",
    "                'time': p.time,\n",
    "                'latitude': p.latitude,\n",
    "                'longitude': p.longitude,\n",
    "                'elevation': p.elevation,\n",
    "            })\n",
    "    gpx_df = pd.DataFrame.from_records(points)\n",
    "    # Cumulative distance.\n",
    "    coords = [(p.latitude, p.longitude) for p in gpx_df.itertuples()]\n",
    "    gpx_df['distance'] = [0] + [geopy.distance.distance(from_, to).m for from_, to in zip(coords[:-1], coords[1:])]\n",
    "    gpx_df['cumulative_distance'] = gpx_df.distance.cumsum()\n",
    "    # Timing.\n",
    "    gpx_df['duration'] = gpx_df.time.diff().dt.total_seconds().fillna(0)\n",
    "    gpx_df['cumulative_duration'] = gpx_df.duration.cumsum()\n",
    "    gpx_df['pace_metric'] = pd.Series((gpx_df.duration / 60) / (gpx_df.distance / 1000)).bfill()\n",
    "    all_gpx_df.append(gpx_df)\n",
    "    "
   ]
  },
  {
   "cell_type": "code",
   "execution_count": 49,
   "id": "dcc087f7",
   "metadata": {},
   "outputs": [
    {
     "data": {
      "text/html": [
       "<div>\n",
       "<style scoped>\n",
       "    .dataframe tbody tr th:only-of-type {\n",
       "        vertical-align: middle;\n",
       "    }\n",
       "\n",
       "    .dataframe tbody tr th {\n",
       "        vertical-align: top;\n",
       "    }\n",
       "\n",
       "    .dataframe thead th {\n",
       "        text-align: right;\n",
       "    }\n",
       "</style>\n",
       "<table border=\"1\" class=\"dataframe\">\n",
       "  <thead>\n",
       "    <tr style=\"text-align: right;\">\n",
       "      <th></th>\n",
       "      <th>time</th>\n",
       "      <th>latitude</th>\n",
       "      <th>longitude</th>\n",
       "      <th>elevation</th>\n",
       "      <th>distance</th>\n",
       "      <th>cumulative_distance</th>\n",
       "      <th>duration</th>\n",
       "      <th>cumulative_duration</th>\n",
       "      <th>pace_metric</th>\n",
       "    </tr>\n",
       "  </thead>\n",
       "  <tbody>\n",
       "    <tr>\n",
       "      <th>0</th>\n",
       "      <td>2020-05-08 23:27:41.313000+00:00</td>\n",
       "      <td>29.414342</td>\n",
       "      <td>-98.495276</td>\n",
       "      <td>-0.420135</td>\n",
       "      <td>0.000000</td>\n",
       "      <td>0.000000</td>\n",
       "      <td>0.000</td>\n",
       "      <td>0.000</td>\n",
       "      <td>6.208184</td>\n",
       "    </tr>\n",
       "    <tr>\n",
       "      <th>1</th>\n",
       "      <td>2020-05-08 23:27:45.236000+00:00</td>\n",
       "      <td>29.414398</td>\n",
       "      <td>-98.495187</td>\n",
       "      <td>191.364375</td>\n",
       "      <td>10.531797</td>\n",
       "      <td>10.531797</td>\n",
       "      <td>3.923</td>\n",
       "      <td>3.923</td>\n",
       "      <td>6.208184</td>\n",
       "    </tr>\n",
       "    <tr>\n",
       "      <th>2</th>\n",
       "      <td>2020-05-08 23:27:49.160000+00:00</td>\n",
       "      <td>29.414398</td>\n",
       "      <td>-98.495187</td>\n",
       "      <td>191.163570</td>\n",
       "      <td>0.000000</td>\n",
       "      <td>10.531797</td>\n",
       "      <td>3.924</td>\n",
       "      <td>7.847</td>\n",
       "      <td>inf</td>\n",
       "    </tr>\n",
       "    <tr>\n",
       "      <th>3</th>\n",
       "      <td>2020-05-08 23:27:53.083000+00:00</td>\n",
       "      <td>29.414398</td>\n",
       "      <td>-98.495187</td>\n",
       "      <td>191.670894</td>\n",
       "      <td>0.000000</td>\n",
       "      <td>10.531797</td>\n",
       "      <td>3.923</td>\n",
       "      <td>11.770</td>\n",
       "      <td>inf</td>\n",
       "    </tr>\n",
       "    <tr>\n",
       "      <th>4</th>\n",
       "      <td>2020-05-08 23:27:57.007000+00:00</td>\n",
       "      <td>29.414524</td>\n",
       "      <td>-98.495035</td>\n",
       "      <td>191.647106</td>\n",
       "      <td>20.305663</td>\n",
       "      <td>30.837460</td>\n",
       "      <td>3.924</td>\n",
       "      <td>15.694</td>\n",
       "      <td>3.220776</td>\n",
       "    </tr>\n",
       "    <tr>\n",
       "      <th>...</th>\n",
       "      <td>...</td>\n",
       "      <td>...</td>\n",
       "      <td>...</td>\n",
       "      <td>...</td>\n",
       "      <td>...</td>\n",
       "      <td>...</td>\n",
       "      <td>...</td>\n",
       "      <td>...</td>\n",
       "      <td>...</td>\n",
       "    </tr>\n",
       "    <tr>\n",
       "      <th>396</th>\n",
       "      <td>2020-05-08 23:53:35.082000+00:00</td>\n",
       "      <td>29.408768</td>\n",
       "      <td>-98.494740</td>\n",
       "      <td>190.460704</td>\n",
       "      <td>12.690904</td>\n",
       "      <td>4652.081649</td>\n",
       "      <td>3.924</td>\n",
       "      <td>1553.769</td>\n",
       "      <td>5.153297</td>\n",
       "    </tr>\n",
       "    <tr>\n",
       "      <th>397</th>\n",
       "      <td>2020-05-08 23:53:39.006000+00:00</td>\n",
       "      <td>29.408675</td>\n",
       "      <td>-98.494764</td>\n",
       "      <td>189.863536</td>\n",
       "      <td>10.536581</td>\n",
       "      <td>4662.618230</td>\n",
       "      <td>3.924</td>\n",
       "      <td>1557.693</td>\n",
       "      <td>6.206947</td>\n",
       "    </tr>\n",
       "    <tr>\n",
       "      <th>398</th>\n",
       "      <td>2020-05-08 23:53:42.929000+00:00</td>\n",
       "      <td>29.408566</td>\n",
       "      <td>-98.494813</td>\n",
       "      <td>189.736705</td>\n",
       "      <td>13.063824</td>\n",
       "      <td>4675.682055</td>\n",
       "      <td>3.923</td>\n",
       "      <td>1561.616</td>\n",
       "      <td>5.004915</td>\n",
       "    </tr>\n",
       "    <tr>\n",
       "      <th>399</th>\n",
       "      <td>2020-05-08 23:53:46.853000+00:00</td>\n",
       "      <td>29.408475</td>\n",
       "      <td>-98.494864</td>\n",
       "      <td>189.704997</td>\n",
       "      <td>11.237389</td>\n",
       "      <td>4686.919443</td>\n",
       "      <td>3.924</td>\n",
       "      <td>1565.540</td>\n",
       "      <td>5.819857</td>\n",
       "    </tr>\n",
       "    <tr>\n",
       "      <th>400</th>\n",
       "      <td>2020-05-08 23:53:50.777000+00:00</td>\n",
       "      <td>29.408388</td>\n",
       "      <td>-98.494912</td>\n",
       "      <td>189.781627</td>\n",
       "      <td>10.721230</td>\n",
       "      <td>4697.640673</td>\n",
       "      <td>3.924</td>\n",
       "      <td>1569.464</td>\n",
       "      <td>6.100046</td>\n",
       "    </tr>\n",
       "  </tbody>\n",
       "</table>\n",
       "<p>401 rows × 9 columns</p>\n",
       "</div>"
      ],
      "text/plain": [
       "                                time   latitude  longitude   elevation  \\\n",
       "0   2020-05-08 23:27:41.313000+00:00  29.414342 -98.495276   -0.420135   \n",
       "1   2020-05-08 23:27:45.236000+00:00  29.414398 -98.495187  191.364375   \n",
       "2   2020-05-08 23:27:49.160000+00:00  29.414398 -98.495187  191.163570   \n",
       "3   2020-05-08 23:27:53.083000+00:00  29.414398 -98.495187  191.670894   \n",
       "4   2020-05-08 23:27:57.007000+00:00  29.414524 -98.495035  191.647106   \n",
       "..                               ...        ...        ...         ...   \n",
       "396 2020-05-08 23:53:35.082000+00:00  29.408768 -98.494740  190.460704   \n",
       "397 2020-05-08 23:53:39.006000+00:00  29.408675 -98.494764  189.863536   \n",
       "398 2020-05-08 23:53:42.929000+00:00  29.408566 -98.494813  189.736705   \n",
       "399 2020-05-08 23:53:46.853000+00:00  29.408475 -98.494864  189.704997   \n",
       "400 2020-05-08 23:53:50.777000+00:00  29.408388 -98.494912  189.781627   \n",
       "\n",
       "      distance  cumulative_distance  duration  cumulative_duration  \\\n",
       "0     0.000000             0.000000     0.000                0.000   \n",
       "1    10.531797            10.531797     3.923                3.923   \n",
       "2     0.000000            10.531797     3.924                7.847   \n",
       "3     0.000000            10.531797     3.923               11.770   \n",
       "4    20.305663            30.837460     3.924               15.694   \n",
       "..         ...                  ...       ...                  ...   \n",
       "396  12.690904          4652.081649     3.924             1553.769   \n",
       "397  10.536581          4662.618230     3.924             1557.693   \n",
       "398  13.063824          4675.682055     3.923             1561.616   \n",
       "399  11.237389          4686.919443     3.924             1565.540   \n",
       "400  10.721230          4697.640673     3.924             1569.464   \n",
       "\n",
       "     pace_metric  \n",
       "0       6.208184  \n",
       "1       6.208184  \n",
       "2            inf  \n",
       "3            inf  \n",
       "4       3.220776  \n",
       "..           ...  \n",
       "396     5.153297  \n",
       "397     6.206947  \n",
       "398     5.004915  \n",
       "399     5.819857  \n",
       "400     6.100046  \n",
       "\n",
       "[401 rows x 9 columns]"
      ]
     },
     "execution_count": 49,
     "metadata": {},
     "output_type": "execute_result"
    }
   ],
   "source": [
    "gpx_df"
   ]
  },
  {
   "cell_type": "code",
   "execution_count": null,
   "id": "b50ae653",
   "metadata": {},
   "outputs": [],
   "source": []
  },
  {
   "cell_type": "code",
   "execution_count": null,
   "id": "1c981dbe",
   "metadata": {},
   "outputs": [],
   "source": []
  },
  {
   "cell_type": "code",
   "execution_count": null,
   "id": "9081cd26",
   "metadata": {},
   "outputs": [],
   "source": []
  },
  {
   "cell_type": "code",
   "execution_count": 4,
   "id": "c9197ba3",
   "metadata": {},
   "outputs": [],
   "source": [
    "# Load gpx.\n",
    "gpx_path = 'strava_gpx_files/6239779520.gpx'\n",
    "with open(gpx_path) as f:\n",
    "    gpx = gpxpy.parse(f)"
   ]
  },
  {
   "cell_type": "code",
   "execution_count": 5,
   "id": "1c1c4a19",
   "metadata": {},
   "outputs": [
    {
     "data": {
      "text/plain": [
       "GPX(tracks=[GPXTrack(name='Lunch Ride', segments=[GPXTrackSegment(points=[...])])])"
      ]
     },
     "execution_count": 5,
     "metadata": {},
     "output_type": "execute_result"
    }
   ],
   "source": [
    "gpx"
   ]
  },
  {
   "cell_type": "code",
   "execution_count": null,
   "id": "032af1c4",
   "metadata": {},
   "outputs": [],
   "source": []
  }
 ],
 "metadata": {
  "kernelspec": {
   "display_name": "Python 3",
   "language": "python",
   "name": "python3"
  },
  "language_info": {
   "codemirror_mode": {
    "name": "ipython",
    "version": 3
   },
   "file_extension": ".py",
   "mimetype": "text/x-python",
   "name": "python",
   "nbconvert_exporter": "python",
   "pygments_lexer": "ipython3",
   "version": "3.8.8"
  }
 },
 "nbformat": 4,
 "nbformat_minor": 5
}
