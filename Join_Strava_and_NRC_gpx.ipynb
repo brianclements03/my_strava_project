{
 "cells": [
  {
   "cell_type": "markdown",
   "id": "0aef3405",
   "metadata": {},
   "source": [
    "# In this notebook, I will merge all Strava and NRC activities in one single DataFrame"
   ]
  },
  {
   "cell_type": "code",
   "execution_count": 1,
   "id": "daa498db",
   "metadata": {},
   "outputs": [],
   "source": [
    "import pandas as pd\n",
    "import numpy as np\n",
    "import numpy_ext\n",
    "import gpxpy\n",
    "import geopy.distance\n",
    "import matplotlib.pyplot as plt\n",
    "import seaborn as sns\n",
    "import os"
   ]
  },
  {
   "cell_type": "code",
   "execution_count": 18,
   "id": "9bfd813f",
   "metadata": {
    "scrolled": false
   },
   "outputs": [],
   "source": [
    "directory = 'all_gpx_files'\n",
    " \n",
    "# iterate over files in\n",
    "# that directory\n",
    "def gpx_iterate(directory):\n",
    "    gpx_file_list=[]\n",
    "    for filename in os.listdir(directory):\n",
    "        f = os.path.join(directory, filename)\n",
    "        # checking if it is a file\n",
    "        if os.path.isfile(f):\n",
    "            gpx_file_list.append(f)\n",
    "    return gpx_file_list"
   ]
  },
  {
   "cell_type": "markdown",
   "id": "88521f3f",
   "metadata": {},
   "source": [
    "## Great, that's how I'll iterate over every gpx file : )"
   ]
  },
  {
   "cell_type": "code",
   "execution_count": 21,
   "id": "f665664c",
   "metadata": {},
   "outputs": [],
   "source": [
    "file_extensions = gpx_iterate(directory)"
   ]
  },
  {
   "cell_type": "code",
   "execution_count": 23,
   "id": "d9cdf734",
   "metadata": {},
   "outputs": [
    {
     "data": {
      "text/plain": [
       "['all_gpx_files/6239779520.gpx',\n",
       " 'all_gpx_files/1056004315.gpx',\n",
       " 'all_gpx_files/0b0a39b7-9362-4b1d-9895-6e2c38046bc3.gpx',\n",
       " 'all_gpx_files/1511363289.gpx',\n",
       " 'all_gpx_files/1460279536.gpx',\n",
       " 'all_gpx_files/3468966238.gpx',\n",
       " 'all_gpx_files/575a84eb-24bc-4241-9651-224c31be8582.gpx',\n",
       " 'all_gpx_files/6133203641.gpx',\n",
       " 'all_gpx_files/2950351388.gpx',\n",
       " 'all_gpx_files/70a4ee20-02f7-4ab7-a400-b425cd759a92.gpx']"
      ]
     },
     "execution_count": 23,
     "metadata": {},
     "output_type": "execute_result"
    }
   ],
   "source": [
    "file_extensions[0:10]"
   ]
  },
  {
   "cell_type": "code",
   "execution_count": 36,
   "id": "8efb5d18",
   "metadata": {},
   "outputs": [],
   "source": [
    "df_list=['time','latitude','longitude','elevation','distance','cumulative_distance',\\\n",
    "                           'duration','cumulative_duration','pace_metric']"
   ]
  },
  {
   "cell_type": "code",
   "execution_count": 37,
   "id": "261a8eb2",
   "metadata": {},
   "outputs": [
    {
     "data": {
      "text/plain": [
       "['time',\n",
       " 'latitude',\n",
       " 'longitude',\n",
       " 'elevation',\n",
       " 'distance',\n",
       " 'cumulative_distance',\n",
       " 'duration',\n",
       " 'cumulative_duration',\n",
       " 'pace_metric']"
      ]
     },
     "execution_count": 37,
     "metadata": {},
     "output_type": "execute_result"
    }
   ],
   "source": [
    "df_list"
   ]
  },
  {
   "cell_type": "code",
   "execution_count": 73,
   "id": "d15283cf",
   "metadata": {},
   "outputs": [
    {
     "data": {
      "text/html": [
       "<div>\n",
       "<style scoped>\n",
       "    .dataframe tbody tr th:only-of-type {\n",
       "        vertical-align: middle;\n",
       "    }\n",
       "\n",
       "    .dataframe tbody tr th {\n",
       "        vertical-align: top;\n",
       "    }\n",
       "\n",
       "    .dataframe thead th {\n",
       "        text-align: right;\n",
       "    }\n",
       "</style>\n",
       "<table border=\"1\" class=\"dataframe\">\n",
       "  <thead>\n",
       "    <tr style=\"text-align: right;\">\n",
       "      <th></th>\n",
       "      <th>time</th>\n",
       "      <th>latitude</th>\n",
       "      <th>longitude</th>\n",
       "      <th>elevation</th>\n",
       "      <th>distance</th>\n",
       "      <th>cumulative_distance</th>\n",
       "      <th>duration</th>\n",
       "      <th>cumulative_duration</th>\n",
       "      <th>pace_metric</th>\n",
       "    </tr>\n",
       "  </thead>\n",
       "  <tbody>\n",
       "  </tbody>\n",
       "</table>\n",
       "</div>"
      ],
      "text/plain": [
       "Empty DataFrame\n",
       "Columns: [time, latitude, longitude, elevation, distance, cumulative_distance, duration, cumulative_duration, pace_metric]\n",
       "Index: []"
      ]
     },
     "execution_count": 73,
     "metadata": {},
     "output_type": "execute_result"
    }
   ],
   "source": [
    "all_gpx_df = pd.DataFrame(columns={'time','latitude','longitude','elevation','distance','cumulative_distance',\\\n",
    "                           'duration','cumulative_duration','pace_metric'})\n",
    "all_gpx_df = all_gpx_df[['time','latitude','longitude','elevation','distance','cumulative_distance',\\\n",
    "                           'duration','cumulative_duration','pace_metric']]\n",
    "all_gpx_df"
   ]
  },
  {
   "cell_type": "code",
   "execution_count": 74,
   "id": "fffb5032",
   "metadata": {},
   "outputs": [],
   "source": [
    "test=file_extensions[0:10]"
   ]
  },
  {
   "cell_type": "code",
   "execution_count": 77,
   "id": "02b6901e",
   "metadata": {},
   "outputs": [],
   "source": [
    "# all_gpx_df=pd.DataFrame()\n",
    "for file in file_extensions:\n",
    "    gpx_path = file\n",
    "    with open(gpx_path) as f:\n",
    "        gpx = gpxpy.parse(f)\n",
    "        points = []\n",
    "        for segment in gpx.tracks[0].segments:\n",
    "            for p in segment.points:\n",
    "                points.append({\n",
    "                    'time': p.time,\n",
    "                    'latitude': p.latitude,\n",
    "                    'longitude': p.longitude,\n",
    "                    'elevation': p.elevation,\n",
    "                })\n",
    "        gpx_df = pd.DataFrame.from_records(points)\n",
    "        # Cumulative distance.\n",
    "        coords = [(p.latitude, p.longitude) for p in gpx_df.itertuples()]\n",
    "        gpx_df['distance'] = [0] + [geopy.distance.distance(from_, to).m for from_, to in zip(coords[:-1], coords[1:])]\n",
    "        gpx_df['cumulative_distance'] = gpx_df.distance.cumsum()\n",
    "        # Timing.\n",
    "        gpx_df['duration'] = gpx_df.time.diff().dt.total_seconds().fillna(0)\n",
    "        gpx_df['cumulative_duration'] = gpx_df.duration.cumsum()\n",
    "        gpx_df['pace_metric'] = pd.Series((gpx_df.duration / 60) / (gpx_df.distance / 1000)).bfill()\n",
    "    all_gpx_df = pd.concat([all_gpx_df,gpx_df])\n",
    "    "
   ]
  },
  {
   "cell_type": "code",
   "execution_count": 78,
   "id": "a42779b4",
   "metadata": {},
   "outputs": [
    {
     "name": "stdout",
     "output_type": "stream",
     "text": [
      "<class 'pandas.core.frame.DataFrame'>\n",
      "Int64Index: 1577238 entries, 0 to 993\n",
      "Data columns (total 9 columns):\n",
      " #   Column               Non-Null Count    Dtype                        \n",
      "---  ------               --------------    -----                        \n",
      " 0   time                 1577238 non-null  datetime64[ns, SimpleTZ(\"Z\")]\n",
      " 1   latitude             1577238 non-null  float64                      \n",
      " 2   longitude            1577238 non-null  float64                      \n",
      " 3   elevation            1575282 non-null  float64                      \n",
      " 4   distance             1577238 non-null  float64                      \n",
      " 5   cumulative_distance  1577238 non-null  float64                      \n",
      " 6   duration             1577238 non-null  float64                      \n",
      " 7   cumulative_duration  1577238 non-null  float64                      \n",
      " 8   pace_metric          1577237 non-null  float64                      \n",
      "dtypes: datetime64[ns, SimpleTZ(\"Z\")](1), float64(8)\n",
      "memory usage: 120.3 MB\n"
     ]
    }
   ],
   "source": [
    "all_gpx_df.info()"
   ]
  },
  {
   "cell_type": "markdown",
   "id": "745c5699",
   "metadata": {},
   "source": [
    "## Cracked it : )"
   ]
  },
  {
   "cell_type": "code",
   "execution_count": 79,
   "id": "d883dc51",
   "metadata": {},
   "outputs": [],
   "source": [
    "all_gpx_df.to_csv('GPX_DATA.csv')"
   ]
  },
  {
   "cell_type": "markdown",
   "id": "3364e0c0",
   "metadata": {},
   "source": [
    "# The above file is 1.5 million rows, and is lagging Tableau. Considering reducing my gpx data points by a factor of possibly 10"
   ]
  },
  {
   "cell_type": "code",
   "execution_count": null,
   "id": "9b9728a9",
   "metadata": {},
   "outputs": [],
   "source": [
    "all_gpx_df = pd.read_csv('GPX_DATA.csv')"
   ]
  },
  {
   "cell_type": "code",
   "execution_count": 3,
   "id": "8fb5a663",
   "metadata": {},
   "outputs": [
    {
     "data": {
      "text/html": [
       "<div>\n",
       "<style scoped>\n",
       "    .dataframe tbody tr th:only-of-type {\n",
       "        vertical-align: middle;\n",
       "    }\n",
       "\n",
       "    .dataframe tbody tr th {\n",
       "        vertical-align: top;\n",
       "    }\n",
       "\n",
       "    .dataframe thead th {\n",
       "        text-align: right;\n",
       "    }\n",
       "</style>\n",
       "<table border=\"1\" class=\"dataframe\">\n",
       "  <thead>\n",
       "    <tr style=\"text-align: right;\">\n",
       "      <th></th>\n",
       "      <th>Unnamed: 0</th>\n",
       "      <th>time</th>\n",
       "      <th>latitude</th>\n",
       "      <th>longitude</th>\n",
       "      <th>elevation</th>\n",
       "      <th>distance</th>\n",
       "      <th>cumulative_distance</th>\n",
       "      <th>duration</th>\n",
       "      <th>cumulative_duration</th>\n",
       "      <th>pace_metric</th>\n",
       "    </tr>\n",
       "  </thead>\n",
       "  <tbody>\n",
       "    <tr>\n",
       "      <th>0</th>\n",
       "      <td>0</td>\n",
       "      <td>2021-11-10 18:45:08+00:00</td>\n",
       "      <td>29.426778</td>\n",
       "      <td>-98.489987</td>\n",
       "      <td>197.1</td>\n",
       "      <td>0.000000</td>\n",
       "      <td>0.000000</td>\n",
       "      <td>0.0</td>\n",
       "      <td>0.0</td>\n",
       "      <td>2.629462</td>\n",
       "    </tr>\n",
       "    <tr>\n",
       "      <th>1</th>\n",
       "      <td>1</td>\n",
       "      <td>2021-11-10 18:45:09+00:00</td>\n",
       "      <td>29.426796</td>\n",
       "      <td>-98.489925</td>\n",
       "      <td>197.1</td>\n",
       "      <td>6.338432</td>\n",
       "      <td>6.338432</td>\n",
       "      <td>1.0</td>\n",
       "      <td>1.0</td>\n",
       "      <td>2.629462</td>\n",
       "    </tr>\n",
       "    <tr>\n",
       "      <th>2</th>\n",
       "      <td>2</td>\n",
       "      <td>2021-11-10 18:45:10+00:00</td>\n",
       "      <td>29.426848</td>\n",
       "      <td>-98.489890</td>\n",
       "      <td>197.1</td>\n",
       "      <td>6.690013</td>\n",
       "      <td>13.028445</td>\n",
       "      <td>1.0</td>\n",
       "      <td>2.0</td>\n",
       "      <td>2.491276</td>\n",
       "    </tr>\n",
       "    <tr>\n",
       "      <th>3</th>\n",
       "      <td>3</td>\n",
       "      <td>2021-11-10 18:45:11+00:00</td>\n",
       "      <td>29.426876</td>\n",
       "      <td>-98.489894</td>\n",
       "      <td>197.1</td>\n",
       "      <td>3.127776</td>\n",
       "      <td>16.156221</td>\n",
       "      <td>1.0</td>\n",
       "      <td>3.0</td>\n",
       "      <td>5.328599</td>\n",
       "    </tr>\n",
       "    <tr>\n",
       "      <th>4</th>\n",
       "      <td>4</td>\n",
       "      <td>2021-11-10 18:45:12+00:00</td>\n",
       "      <td>29.426863</td>\n",
       "      <td>-98.489900</td>\n",
       "      <td>197.1</td>\n",
       "      <td>1.554134</td>\n",
       "      <td>17.710355</td>\n",
       "      <td>1.0</td>\n",
       "      <td>4.0</td>\n",
       "      <td>10.724088</td>\n",
       "    </tr>\n",
       "  </tbody>\n",
       "</table>\n",
       "</div>"
      ],
      "text/plain": [
       "   Unnamed: 0                       time   latitude  longitude  elevation  \\\n",
       "0           0  2021-11-10 18:45:08+00:00  29.426778 -98.489987      197.1   \n",
       "1           1  2021-11-10 18:45:09+00:00  29.426796 -98.489925      197.1   \n",
       "2           2  2021-11-10 18:45:10+00:00  29.426848 -98.489890      197.1   \n",
       "3           3  2021-11-10 18:45:11+00:00  29.426876 -98.489894      197.1   \n",
       "4           4  2021-11-10 18:45:12+00:00  29.426863 -98.489900      197.1   \n",
       "\n",
       "   distance  cumulative_distance  duration  cumulative_duration  pace_metric  \n",
       "0  0.000000             0.000000       0.0                  0.0     2.629462  \n",
       "1  6.338432             6.338432       1.0                  1.0     2.629462  \n",
       "2  6.690013            13.028445       1.0                  2.0     2.491276  \n",
       "3  3.127776            16.156221       1.0                  3.0     5.328599  \n",
       "4  1.554134            17.710355       1.0                  4.0    10.724088  "
      ]
     },
     "execution_count": 3,
     "metadata": {},
     "output_type": "execute_result"
    }
   ],
   "source": [
    "all_gpx_df.head()"
   ]
  },
  {
   "cell_type": "markdown",
   "id": "dba39b4d",
   "metadata": {},
   "source": [
    "## If you use the time as the index, resampling could work.\n",
    "- or something like \n",
    "    - df1 = df[df.index % 3 != 0]  # Excludes every 3rd row starting from 0\n",
    "    - df2 = df[df.index % 3 == 0]  # Selects every 3rd raw starting from 0"
   ]
  },
  {
   "cell_type": "code",
   "execution_count": null,
   "id": "b207a13d",
   "metadata": {},
   "outputs": [],
   "source": []
  },
  {
   "cell_type": "code",
   "execution_count": 50,
   "id": "d391d5be",
   "metadata": {},
   "outputs": [],
   "source": [
    "# just testing here\n",
    "\n",
    "# Load gpx.\n",
    "gpx_path = 'all_gpx_files/70a4ee20-02f7-4ab7-a400-b425cd759a92.gpx'\n",
    "with open(gpx_path) as f:\n",
    "    gpx = gpxpy.parse(f)"
   ]
  },
  {
   "cell_type": "code",
   "execution_count": 51,
   "id": "e6ea0879",
   "metadata": {},
   "outputs": [
    {
     "data": {
      "text/plain": [
       "GPX(tracks=[GPXTrack(name='RUN 2020-05-08T23:27:41.313Z', segments=[GPXTrackSegment(points=[...])])])"
      ]
     },
     "execution_count": 51,
     "metadata": {},
     "output_type": "execute_result"
    }
   ],
   "source": [
    "gpx"
   ]
  },
  {
   "cell_type": "code",
   "execution_count": null,
   "id": "04c147da",
   "metadata": {},
   "outputs": [],
   "source": []
  }
 ],
 "metadata": {
  "kernelspec": {
   "display_name": "Python 3",
   "language": "python",
   "name": "python3"
  },
  "language_info": {
   "codemirror_mode": {
    "name": "ipython",
    "version": 3
   },
   "file_extension": ".py",
   "mimetype": "text/x-python",
   "name": "python",
   "nbconvert_exporter": "python",
   "pygments_lexer": "ipython3",
   "version": "3.8.8"
  }
 },
 "nbformat": 4,
 "nbformat_minor": 5
}
